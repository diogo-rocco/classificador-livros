{
 "cells": [
  {
   "cell_type": "markdown",
   "metadata": {
    "colab_type": "text",
    "id": "jGjcmNicunTE"
   },
   "source": [
    "# Classificação de livros utilizando o NMF\n",
    "\n",
    "* O objetivo deste trabalho é desenvolver um programa que seja capaz de:\n",
    "    \n",
    "> 1. Receber varios livros como entrada.\n",
    ">2. Contar quantas vezes cada palavra aparece em cada livro.\n",
    ">3. Gerar uma matriz **Palavra X Livro**, que armazena a quantidade de cada palavra em cada livro.\n",
    ">4. Agrupar esses livros baseado em quão similares eles são.\n",
    "\n",
    "* O agrupamento mencionado no item 4 deverá ser realizado atravez de uma fatoração da matriz **Palavra X Livro** em duas novas matrizes, uma matriz de   **Palavras X Posto** e outra de **Posto X Livro**, o significado desse posto será discutdo mais adiante. Essa fatoração deverá ser realizada pelo NMF.\n",
    "\n",
    "*   O NMF é um método de fatoração de matrizes, que recebe de entrada uma matriz M **não negativa** (que só tem valores positivos armazenados dentro dela) e manda como saída duas matrizes W e H, também não negativas, tais que M≈WxH.\n",
    "> * O diferencial do NMF é que, como tanto a matriz M quanto as matrizes W e H só possuem elementos positivos, podemos descrever os elementos de M como uma soma dos elementos de W e H\n",
    "> * Essa propriedade faz do NMF um excelente método de fatoração de matrizes no que diz respeito à interpretação dos seus resultados por um ser humano, pois podemos interpretar os conteudos de W e H como pequenas partes do conteudo de M, como veremos a seguir.\n",
    "\n"
   ]
  },
  {
   "cell_type": "markdown",
   "metadata": {
    "colab_type": "text",
    "id": "-PojTcqbSS8P"
   },
   "source": [
    "# Imports\n",
    "* Pandas: biblioteca de manipulação de dados, usamos ele para criar e manipular as matrizes de  **Palavra X Livro**, **Palavra X Posto** e **Posto X Livro**\n",
    "* sklearn: dessa biblioteca importamos o algoritmo do NMF que será implementado, pois como o algoritmo por si só é complexo o suficiente para render outro trabalho à parte, decidiu-se que o foco deste trabalho seria apenas na implementação do NMF e suas interpretações."
   ]
  },
  {
   "cell_type": "code",
   "execution_count": 1,
   "metadata": {
    "colab": {},
    "colab_type": "code",
    "id": "jHSl6QzwNSqW"
   },
   "outputs": [],
   "source": [
    "import pandas as pd\n",
    "from sklearn.decomposition import NMF"
   ]
  },
  {
   "cell_type": "markdown",
   "metadata": {
    "colab_type": "text",
    "id": "a4WsvGd_UA-N"
   },
   "source": [
    "# Alfabeto e Sujeiras\n",
    "* O alfabeto é o conjunto de signos que o programa de leitura será capaz de ler, foi selecionado um alfabeto para que o programa automaticamnte ignore caracteres como pontuação ou numerais. Além disso, todos os livros lidos são em inglês, para evitar problemas com acentuação..\n",
    "* A sujeira são as \"stopwords\", palavras que não acrescentam em nada o contexto geral do livro (palavras como artigos, preposições, pronomes, etc...). Além das stopwords, foram incluidas alguns erros de digitação que foram pegos manualmente atravez de uma inspeção superficial na matriz **Palavra X Livro**"
   ]
  },
  {
   "cell_type": "code",
   "execution_count": 2,
   "metadata": {
    "colab": {},
    "colab_type": "code",
    "id": "Tr3Ct3SVO-00"
   },
   "outputs": [],
   "source": [
    "alfabeto = ['a', 'b', 'c', 'd', 'e', 'f', 'g', 'h', 'i', 'j', 'k', 'l', 'm', 'n', 'o', 'p', 'q', 'r', 's', 't', 'u',\n",
    "            'v', 'w', 'x', 'y', 'z']\n",
    "sujeira = ['yi', 'yf', 'y', 'x', 'wouldnt', 'would', 'w', 'v', 'u', 'ti', 'p', 'one', 'o', 'nbody', 'must', 'maybe', 'may', 'm', 'l', 'j', 'im', 'id', 'h', 'f', 'daeneryss', 'cs', 'c', 'b', 'll', 'd', 're', '', 'aaa', \"i\", \"me\", \"my\", \"myself\", \"we\", \"our\", \"ours\", \"ourselves\", \"you\", \"your\", \"yours\", \"yourself\", \"yourselves\", \"he\", \"him\", \"his\", \"himself\", \"she\", \"her\", \"hers\", \"herself\", \"it\", \"its\", \"itself\", \"they\", \"them\", \"their\", \"theirs\", \"themselves\", \"what\", \"which\", \"who\", \"whom\", \"this\", \"that\", \"these\", \"those\", \"am\", \"is\", \"are\", \"was\", \"were\", \"be\", \"been\", \"being\", \"have\", \"has\", \"had\", \"having\", \"do\", \"does\", 'doesnt', \"did\", 'didnt' \"doing\", \"a\", \"an\", \"the\", \"and\", \"but\", \"if\", \"or\", \"because\", \"as\", \"until\", \"while\", \"of\", \"at\", \"by\", \"for\", \"with\", \"about\", \"against\", \"between\", \"into\", \"through\", \"during\", \"before\", \"after\", \"above\", \"below\", \"to\", \"from\", \"up\", \"down\", \"in\", \"out\", \"on\", \"off\", \"over\", \"under\", \"again\", \"further\", \"then\", \"once\", \"here\", \"there\", \"when\", \"where\", \"why\", \"how\", \"all\", \"any\", \"both\", \"each\", \"few\", \"more\", \"most\", \"other\", \"some\", \"such\", \"no\", \"nor\", \"not\", \"only\", \"own\", \"same\", \"so\", \"than\", \"too\", \"very\", \"s\", \"t\", \"can\", \"will\", \"just\", \"don\", \"should\", \"now\"]\n"
   ]
  },
  {
   "cell_type": "markdown",
   "metadata": {
    "colab_type": "text",
    "id": "q1IZmkdXTIIh"
   },
   "source": [
    "# Funções utilizadas\n",
    "\n",
    "*   **removerCaracterEspeciais**\n",
    ">* Recebe como entrada uma palavra e compara cada caracter dela com os do array \"alfabeto\" definido anteriormente\n",
    ">* Todos os caracteres da palavra que não estejam no alfabeto são retirados dela\n",
    ">* A palavra \"limpa\" é retornada como saída da função\n",
    "\n",
    "*   **contadorDePalavras**\n",
    ">* Recebe como entrada o nome do livro que será lido e abre o arquivo do livro na pagina do google drive\n",
    ">* \"Lê\" o livro, pegando todo seu conteudo e separando em um vetor de palavras\n",
    ">* \"Limpa\" cada palavra, atravez da função  **removerCaracterEspeciais** e conta quantas vezes cada palavra aparece\n",
    ">* Retorna um dicionario, onde cada chave é uma palavra e o valor associado à essa chave é a quantidade de vezes que ela apareceu\n",
    "\n",
    "*   **removerSujeira**\n",
    ">* Recebe como entrada a matriz **Palavra X Livro** e remove todas as palavras da matriz que estejam contidas no array de \"sujeira\" definido anteriormente\n",
    ">* Retorna a matriz **Palavra X Livro** \"limpa\", sem as palavras contidas no array de sujeira"
   ]
  },
  {
   "cell_type": "code",
   "execution_count": 3,
   "metadata": {
    "colab": {},
    "colab_type": "code",
    "id": "hE8B2y2HPRgW"
   },
   "outputs": [],
   "source": [
    "def removerCaracterEspeciais(palavra):\n",
    "    palavraNova = \"\"\n",
    "    for letra in palavra:\n",
    "        if letra in alfabeto:\n",
    "            palavraNova += letra\n",
    "    return palavraNova"
   ]
  },
  {
   "cell_type": "code",
   "execution_count": 4,
   "metadata": {
    "colab": {},
    "colab_type": "code",
    "id": "rrkX7aq2Pxyy"
   },
   "outputs": [],
   "source": [
    "def contadorDePalavras(nomeDoLivro):\n",
    "    livro = open(nomeDoLivro, 'r', encoding=\"ISO-8859-1\")\n",
    "    quantidadePorPalavra = {}\n",
    "\n",
    "    for linha in livro.readlines():\n",
    "        palavrasNaLinha = linha.split()\n",
    "        for palavra in palavrasNaLinha:\n",
    "            palavra = palavra.lower()\n",
    "            palavra = removerCaracterEspeciais(palavra)\n",
    "            if palavra in quantidadePorPalavra.keys():\n",
    "                quantidadePorPalavra[palavra] += 1\n",
    "            else:\n",
    "                quantidadePorPalavra[palavra] = 1\n",
    "    livro.close()\n",
    "    return quantidadePorPalavra"
   ]
  },
  {
   "cell_type": "code",
   "execution_count": 5,
   "metadata": {
    "colab": {},
    "colab_type": "code",
    "id": "v9uo00TCPu6o"
   },
   "outputs": [],
   "source": [
    "def removerSujeira(dataframe):\n",
    "    for palavra in list(dataframe.index):\n",
    "        if palavra in sujeira:\n",
    "            dataframe.drop(palavra, axis=0, inplace=True)\n",
    "    return\n"
   ]
  },
  {
   "cell_type": "markdown",
   "metadata": {
    "colab_type": "text",
    "id": "3vjRlsTRT1Z-"
   },
   "source": [
    "# Cria a matriz de Palavra X livro\n",
    "* palavraPorLivro: uma matriz vazia que será preenchida com as relações de quantas vezes cada palavra aparece em cada livro\n",
    "* arquivosDeLivros: array com os nomes dos arquivos dos livros que serão lidos"
   ]
  },
  {
   "cell_type": "code",
   "execution_count": 6,
   "metadata": {
    "colab": {},
    "colab_type": "code",
    "id": "CBCdJEnPP05h"
   },
   "outputs": [],
   "source": [
    "\n",
    "palavraPorLivro = pd.DataFrame()\n",
    "arquivosDeLivros = ['Foundation', 'Found_Emp', 'Sec_Found', 'Sociedade_do_anel', 'duas_torres', 'Retorno_Rei', 'Lookin_for_Alaska', 'Paper_Town', 'tartarugas_abaixo', 'querido_joao']"
   ]
  },
  {
   "cell_type": "markdown",
   "metadata": {
    "colab_type": "text",
    "id": "lUHpdtnVc7gM"
   },
   "source": [
    "# Preenche a matriz de Palavra X Livro\n",
    "* Lê o conteúdo dos arquivos de livros e preenche a matriz **Palavra X Livro** com as relações de quantas vezes cada palavra aparece em cada livro"
   ]
  },
  {
   "cell_type": "code",
   "execution_count": 7,
   "metadata": {
    "colab": {},
    "colab_type": "code",
    "id": "eGcb_7WQP-A3"
   },
   "outputs": [],
   "source": [
    "for nomeDoLivro in arquivosDeLivros:\n",
    "    quantidadePorPalavra = contadorDePalavras('./Dados/'+nomeDoLivro+\".txt\")\n",
    "    ocorrenciaNoLivro = pd.DataFrame({'Palavra': list(quantidadePorPalavra.keys()), nomeDoLivro: list(quantidadePorPalavra.values())})\n",
    "    palavraPorLivro = palavraPorLivro.append(ocorrenciaNoLivro, sort='False')"
   ]
  },
  {
   "cell_type": "markdown",
   "metadata": {
    "colab_type": "text",
    "id": "8WKK73_pdIZz"
   },
   "source": [
    "# Remove as sujeiras da matriz Palavra X Livro"
   ]
  },
  {
   "cell_type": "code",
   "execution_count": 8,
   "metadata": {
    "colab": {},
    "colab_type": "code",
    "id": "N5EU-ctXQQEm"
   },
   "outputs": [],
   "source": [
    "palavraPorLivro = palavraPorLivro.groupby('Palavra').sum()\n",
    "removerSujeira(palavraPorLivro)"
   ]
  },
  {
   "cell_type": "markdown",
   "metadata": {
    "colab_type": "text",
    "id": "znbr_XlIULm5"
   },
   "source": [
    "# Fatora a matriz de Palavra X Livro em duas novas matrizes\n",
    "\n",
    "* model: modelo que  vai realizar a fatoração NMF na matriz de **Palavra X Livro**\n",
    ">* O atributo \"n_components\" informa para o modelo qual é o posto desejado das matrizes **Palavra X Posto** e **Posto X Livro**\n",
    "* palavraPorGenero: a matriz **Palavra X Posto**\n",
    "* livroPorGenero: a matiz **Posto X Livro**\n"
   ]
  },
  {
   "cell_type": "code",
   "execution_count": 9,
   "metadata": {
    "colab": {},
    "colab_type": "code",
    "id": "i005tljCXDIZ"
   },
   "outputs": [],
   "source": [
    "model = NMF(n_components=3)\n",
    "palavraPorGenero = pd.DataFrame(data=model.fit_transform(palavraPorLivro)).join(pd.DataFrame({'palavras': list(palavraPorLivro.index)})).groupby('palavras').sum()\n",
    "livroPorGenero = model.components_\n",
    "livroPorGenero = pd.DataFrame(data=livroPorGenero, columns=['Fundacao e imperio', 'Fundacao','Quem eh voce Alaska?' ,'Cidade de Papel' ,'Retorno do Rei', 'Segunda fundacao', 'Sociedade do Anel', 'Duas Torres', 'querido joao', 'Tartarugas Embaixo'])"
   ]
  },
  {
   "cell_type": "markdown",
   "metadata": {
    "colab_type": "text",
    "id": "2pQSBr10lyo_"
   },
   "source": [
    "# Vendo o significado do posto\n",
    "* Abaixo, imprimiu-se a matriz **Posto X Livro** e verificamos que certos grupos livros tem valores muito altos em certas linhas\n",
    "* Graças à propriedade da não negatividade do NMF o conteúdo dos livros deve ser, aproxidamamente, uma soma dos valores de cada linha para aquele livro\n",
    "* Sendo assim, podemos atribuir um significado para essas linhas e dizer que os livros possuem \"muito\" daquela linha em sua composição. Um exemplo seria interpretar cada linha, ou seja, o posto, como sendo um **Genero**"
   ]
  },
  {
   "cell_type": "code",
   "execution_count": 10,
   "metadata": {
    "colab": {},
    "colab_type": "code",
    "id": "BJwh8UiKiJI5"
   },
   "outputs": [
    {
     "data": {
      "text/html": [
       "<div>\n",
       "<style scoped>\n",
       "    .dataframe tbody tr th:only-of-type {\n",
       "        vertical-align: middle;\n",
       "    }\n",
       "\n",
       "    .dataframe tbody tr th {\n",
       "        vertical-align: top;\n",
       "    }\n",
       "\n",
       "    .dataframe thead th {\n",
       "        text-align: right;\n",
       "    }\n",
       "</style>\n",
       "<table border=\"1\" class=\"dataframe\">\n",
       "  <thead>\n",
       "    <tr style=\"text-align: right;\">\n",
       "      <th></th>\n",
       "      <th>Fundacao e imperio</th>\n",
       "      <th>Fundacao</th>\n",
       "      <th>Quem eh voce Alaska?</th>\n",
       "      <th>Cidade de Papel</th>\n",
       "      <th>Retorno do Rei</th>\n",
       "      <th>Segunda fundacao</th>\n",
       "      <th>Sociedade do Anel</th>\n",
       "      <th>Duas Torres</th>\n",
       "      <th>querido joao</th>\n",
       "      <th>Tartarugas Embaixo</th>\n",
       "    </tr>\n",
       "  </thead>\n",
       "  <tbody>\n",
       "    <tr>\n",
       "      <th>0</th>\n",
       "      <td>0.659117</td>\n",
       "      <td>0.189653</td>\n",
       "      <td>0.460569</td>\n",
       "      <td>0.00000</td>\n",
       "      <td>35.045000</td>\n",
       "      <td>0.000000</td>\n",
       "      <td>48.807015</td>\n",
       "      <td>40.159293</td>\n",
       "      <td>0.000000</td>\n",
       "      <td>0.141330</td>\n",
       "    </tr>\n",
       "    <tr>\n",
       "      <th>1</th>\n",
       "      <td>22.129976</td>\n",
       "      <td>46.180781</td>\n",
       "      <td>0.108857</td>\n",
       "      <td>0.00000</td>\n",
       "      <td>0.940298</td>\n",
       "      <td>23.559015</td>\n",
       "      <td>0.000000</td>\n",
       "      <td>2.120044</td>\n",
       "      <td>2.929188</td>\n",
       "      <td>0.191076</td>\n",
       "    </tr>\n",
       "    <tr>\n",
       "      <th>2</th>\n",
       "      <td>0.000000</td>\n",
       "      <td>0.000000</td>\n",
       "      <td>27.292287</td>\n",
       "      <td>32.51002</td>\n",
       "      <td>0.000000</td>\n",
       "      <td>0.000000</td>\n",
       "      <td>1.130364</td>\n",
       "      <td>3.001595</td>\n",
       "      <td>30.737744</td>\n",
       "      <td>25.495285</td>\n",
       "    </tr>\n",
       "  </tbody>\n",
       "</table>\n",
       "</div>"
      ],
      "text/plain": [
       "   Fundacao e imperio   Fundacao  Quem eh voce Alaska?  Cidade de Papel  \\\n",
       "0            0.659117   0.189653              0.460569          0.00000   \n",
       "1           22.129976  46.180781              0.108857          0.00000   \n",
       "2            0.000000   0.000000             27.292287         32.51002   \n",
       "\n",
       "   Retorno do Rei  Segunda fundacao  Sociedade do Anel  Duas Torres  \\\n",
       "0       35.045000          0.000000          48.807015    40.159293   \n",
       "1        0.940298         23.559015           0.000000     2.120044   \n",
       "2        0.000000          0.000000           1.130364     3.001595   \n",
       "\n",
       "   querido joao  Tartarugas Embaixo  \n",
       "0      0.000000            0.141330  \n",
       "1      2.929188            0.191076  \n",
       "2     30.737744           25.495285  "
      ]
     },
     "execution_count": 10,
     "metadata": {},
     "output_type": "execute_result"
    }
   ],
   "source": [
    "livroPorGenero"
   ]
  },
  {
   "cell_type": "markdown",
   "metadata": {
    "colab_type": "text",
    "id": "o3on3LCDUiZP"
   },
   "source": [
    "# Matriz Genero X Livro\n",
    "\n",
    "* Vamos agora atribuir para cada linha um genero diferente, os nomes de cada linha foram escolhidos baseado num conhecimento dos livros por parte do autor do trabalho"
   ]
  },
  {
   "cell_type": "code",
   "execution_count": 11,
   "metadata": {
    "colab": {},
    "colab_type": "code",
    "id": "5KtmHK2MiFsE"
   },
   "outputs": [],
   "source": [
    "livroPorGenero = livroPorGenero.join(pd.DataFrame({'Genero': ['Fanatsia', 'Sci-Fi', 'Drama']}))\n",
    "livroPorGenero = livroPorGenero.groupby('Genero').sum()"
   ]
  },
  {
   "cell_type": "markdown",
   "metadata": {
    "colab_type": "text",
    "id": "-I17SA5_n-Kw"
   },
   "source": [
    "# Analise do resultado\n",
    "\n",
    "* Agora, ao imprimir novamente a matriz **Genero X Livro**, mas dessa vez atribuindo nome para as linhas, podemos ver claramente que livros de generos similares ficam, de fato, agrupados na mesma linha\n",
    "* Entretanto, ainda há um problema na leitura dessa matriz. Se pararmos para ver o somatório dos valores de cada coluna, perceberemos que eles variam bastante de livro para livro. Isso se deve porque o somatório de cada coluna depende do **tamanho do livro**. Isso leva a alguns questionamentos:\n",
    ">1. Essa matriz é a melhor maneira de ler os resultados?\n",
    ">2. Baseado nessa matriz o livro \"Fundação\" possui o dobro de Sci-Fi que o livro \"Fundação e Imperio\", mas será que isso é mesmo verdade?\n",
    ">3. O tamanho dos livros deve mesmo ser levado em conta na hora de ver o quanto de cada genero ele possui?"
   ]
  },
  {
   "cell_type": "code",
   "execution_count": 12,
   "metadata": {
    "colab": {},
    "colab_type": "code",
    "id": "gfCTWCTcgkj-"
   },
   "outputs": [
    {
     "data": {
      "text/html": [
       "<div>\n",
       "<style scoped>\n",
       "    .dataframe tbody tr th:only-of-type {\n",
       "        vertical-align: middle;\n",
       "    }\n",
       "\n",
       "    .dataframe tbody tr th {\n",
       "        vertical-align: top;\n",
       "    }\n",
       "\n",
       "    .dataframe thead th {\n",
       "        text-align: right;\n",
       "    }\n",
       "</style>\n",
       "<table border=\"1\" class=\"dataframe\">\n",
       "  <thead>\n",
       "    <tr style=\"text-align: right;\">\n",
       "      <th></th>\n",
       "      <th>Fundacao e imperio</th>\n",
       "      <th>Fundacao</th>\n",
       "      <th>Quem eh voce Alaska?</th>\n",
       "      <th>Cidade de Papel</th>\n",
       "      <th>Retorno do Rei</th>\n",
       "      <th>Segunda fundacao</th>\n",
       "      <th>Sociedade do Anel</th>\n",
       "      <th>Duas Torres</th>\n",
       "      <th>querido joao</th>\n",
       "      <th>Tartarugas Embaixo</th>\n",
       "    </tr>\n",
       "    <tr>\n",
       "      <th>Genero</th>\n",
       "      <th></th>\n",
       "      <th></th>\n",
       "      <th></th>\n",
       "      <th></th>\n",
       "      <th></th>\n",
       "      <th></th>\n",
       "      <th></th>\n",
       "      <th></th>\n",
       "      <th></th>\n",
       "      <th></th>\n",
       "    </tr>\n",
       "  </thead>\n",
       "  <tbody>\n",
       "    <tr>\n",
       "      <th>Drama</th>\n",
       "      <td>0.000000</td>\n",
       "      <td>0.000000</td>\n",
       "      <td>27.292287</td>\n",
       "      <td>32.51002</td>\n",
       "      <td>0.000000</td>\n",
       "      <td>0.000000</td>\n",
       "      <td>1.130364</td>\n",
       "      <td>3.001595</td>\n",
       "      <td>30.737744</td>\n",
       "      <td>25.495285</td>\n",
       "    </tr>\n",
       "    <tr>\n",
       "      <th>Fanatsia</th>\n",
       "      <td>0.659117</td>\n",
       "      <td>0.189653</td>\n",
       "      <td>0.460569</td>\n",
       "      <td>0.00000</td>\n",
       "      <td>35.045000</td>\n",
       "      <td>0.000000</td>\n",
       "      <td>48.807015</td>\n",
       "      <td>40.159293</td>\n",
       "      <td>0.000000</td>\n",
       "      <td>0.141330</td>\n",
       "    </tr>\n",
       "    <tr>\n",
       "      <th>Sci-Fi</th>\n",
       "      <td>22.129976</td>\n",
       "      <td>46.180781</td>\n",
       "      <td>0.108857</td>\n",
       "      <td>0.00000</td>\n",
       "      <td>0.940298</td>\n",
       "      <td>23.559015</td>\n",
       "      <td>0.000000</td>\n",
       "      <td>2.120044</td>\n",
       "      <td>2.929188</td>\n",
       "      <td>0.191076</td>\n",
       "    </tr>\n",
       "  </tbody>\n",
       "</table>\n",
       "</div>"
      ],
      "text/plain": [
       "          Fundacao e imperio   Fundacao  Quem eh voce Alaska?  \\\n",
       "Genero                                                          \n",
       "Drama               0.000000   0.000000             27.292287   \n",
       "Fanatsia            0.659117   0.189653              0.460569   \n",
       "Sci-Fi             22.129976  46.180781              0.108857   \n",
       "\n",
       "          Cidade de Papel  Retorno do Rei  Segunda fundacao  \\\n",
       "Genero                                                        \n",
       "Drama            32.51002        0.000000          0.000000   \n",
       "Fanatsia          0.00000       35.045000          0.000000   \n",
       "Sci-Fi            0.00000        0.940298         23.559015   \n",
       "\n",
       "          Sociedade do Anel  Duas Torres  querido joao  Tartarugas Embaixo  \n",
       "Genero                                                                      \n",
       "Drama              1.130364     3.001595     30.737744           25.495285  \n",
       "Fanatsia          48.807015    40.159293      0.000000            0.141330  \n",
       "Sci-Fi             0.000000     2.120044      2.929188            0.191076  "
      ]
     },
     "execution_count": 12,
     "metadata": {},
     "output_type": "execute_result"
    }
   ],
   "source": [
    "livroPorGenero"
   ]
  },
  {
   "cell_type": "markdown",
   "metadata": {
    "colab_type": "text",
    "id": "fKngR-vaud0x"
   },
   "source": [
    "# Normalização\n",
    "* Para resolver as questões levantadas anteriormente, pensou-se na ideia de normalizar os resultados da matriz **Genero X Livro**\n",
    "* Essa normalização foi feita atravez da função **normalizar**, que pega todos os valores de cara coluna e divide pelo somatório dos valores dessa coluna, dessa forma o tamanho do livro deixaria de ser um fator importante e a matriz **Genero X Livro** normalizada passa a armazenar o percentual de cada gênero contido em cada livro"
   ]
  },
  {
   "cell_type": "code",
   "execution_count": 13,
   "metadata": {
    "colab": {},
    "colab_type": "code",
    "id": "kXncn52Nqlas"
   },
   "outputs": [],
   "source": [
    "def normalizar(coluna):\n",
    "  total = 0\n",
    "  for i in list(coluna):\n",
    "    total += i\n",
    "  for i in range(coluna.size):\n",
    "    coluna[i] = coluna[i]/total\n",
    "    \n",
    "def test(x):\n",
    "  return 2*x"
   ]
  },
  {
   "cell_type": "markdown",
   "metadata": {
    "colab_type": "text",
    "id": "0uriGzXZ8qEs"
   },
   "source": [
    "# Resultados Finais\n",
    "\n",
    "* Temos agora uma matriz **Gênero X Livro** normalizada, onde podemosver de forma clara quanto de cada gênero cada livro tem dentro dele. \n",
    "* Essa matriz mostra como o NMF é uma ferramenta poderosa quando queremos agrupar determinado conjunto de dados baseado em alguma similaridade que esses dados tenham entre si.\n",
    "* Embora não seja o algoritmo mais preciso para fatoração de matrizes, o poder do NMF se encontra na facilidade que é pro serhumano interpretar seus resultados, como visto ao longo desse trabalho."
   ]
  },
  {
   "cell_type": "code",
   "execution_count": 14,
   "metadata": {
    "colab": {},
    "colab_type": "code",
    "id": "0wdMJIXHruSs"
   },
   "outputs": [
    {
     "data": {
      "text/html": [
       "<div>\n",
       "<style scoped>\n",
       "    .dataframe tbody tr th:only-of-type {\n",
       "        vertical-align: middle;\n",
       "    }\n",
       "\n",
       "    .dataframe tbody tr th {\n",
       "        vertical-align: top;\n",
       "    }\n",
       "\n",
       "    .dataframe thead th {\n",
       "        text-align: right;\n",
       "    }\n",
       "</style>\n",
       "<table border=\"1\" class=\"dataframe\">\n",
       "  <thead>\n",
       "    <tr style=\"text-align: right;\">\n",
       "      <th></th>\n",
       "      <th>Fundacao e imperio</th>\n",
       "      <th>Fundacao</th>\n",
       "      <th>Quem eh voce Alaska?</th>\n",
       "      <th>Cidade de Papel</th>\n",
       "      <th>Retorno do Rei</th>\n",
       "      <th>Segunda fundacao</th>\n",
       "      <th>Sociedade do Anel</th>\n",
       "      <th>Duas Torres</th>\n",
       "      <th>querido joao</th>\n",
       "      <th>Tartarugas Embaixo</th>\n",
       "    </tr>\n",
       "    <tr>\n",
       "      <th>Genero</th>\n",
       "      <th></th>\n",
       "      <th></th>\n",
       "      <th></th>\n",
       "      <th></th>\n",
       "      <th></th>\n",
       "      <th></th>\n",
       "      <th></th>\n",
       "      <th></th>\n",
       "      <th></th>\n",
       "      <th></th>\n",
       "    </tr>\n",
       "  </thead>\n",
       "  <tbody>\n",
       "    <tr>\n",
       "      <th>Drama</th>\n",
       "      <td>0.000000</td>\n",
       "      <td>0.00000</td>\n",
       "      <td>0.979562</td>\n",
       "      <td>1.0</td>\n",
       "      <td>0.00000</td>\n",
       "      <td>0.0</td>\n",
       "      <td>0.022636</td>\n",
       "      <td>0.066288</td>\n",
       "      <td>0.912995</td>\n",
       "      <td>0.987130</td>\n",
       "    </tr>\n",
       "    <tr>\n",
       "      <th>Fanatsia</th>\n",
       "      <td>0.028922</td>\n",
       "      <td>0.00409</td>\n",
       "      <td>0.016531</td>\n",
       "      <td>0.0</td>\n",
       "      <td>0.97387</td>\n",
       "      <td>0.0</td>\n",
       "      <td>0.977364</td>\n",
       "      <td>0.886892</td>\n",
       "      <td>0.000000</td>\n",
       "      <td>0.005472</td>\n",
       "    </tr>\n",
       "    <tr>\n",
       "      <th>Sci-Fi</th>\n",
       "      <td>0.971078</td>\n",
       "      <td>0.99591</td>\n",
       "      <td>0.003907</td>\n",
       "      <td>0.0</td>\n",
       "      <td>0.02613</td>\n",
       "      <td>1.0</td>\n",
       "      <td>0.000000</td>\n",
       "      <td>0.046820</td>\n",
       "      <td>0.087005</td>\n",
       "      <td>0.007398</td>\n",
       "    </tr>\n",
       "  </tbody>\n",
       "</table>\n",
       "</div>"
      ],
      "text/plain": [
       "          Fundacao e imperio  Fundacao  Quem eh voce Alaska?  Cidade de Papel  \\\n",
       "Genero                                                                          \n",
       "Drama               0.000000   0.00000              0.979562              1.0   \n",
       "Fanatsia            0.028922   0.00409              0.016531              0.0   \n",
       "Sci-Fi              0.971078   0.99591              0.003907              0.0   \n",
       "\n",
       "          Retorno do Rei  Segunda fundacao  Sociedade do Anel  Duas Torres  \\\n",
       "Genero                                                                       \n",
       "Drama            0.00000               0.0           0.022636     0.066288   \n",
       "Fanatsia         0.97387               0.0           0.977364     0.886892   \n",
       "Sci-Fi           0.02613               1.0           0.000000     0.046820   \n",
       "\n",
       "          querido joao  Tartarugas Embaixo  \n",
       "Genero                                      \n",
       "Drama         0.912995            0.987130  \n",
       "Fanatsia      0.000000            0.005472  \n",
       "Sci-Fi        0.087005            0.007398  "
      ]
     },
     "execution_count": 14,
     "metadata": {},
     "output_type": "execute_result"
    }
   ],
   "source": [
    "livroPorGeneroNormalizado = livroPorGenero.copy()\n",
    "livroPorGeneroNormalizado.apply(normalizar)\n",
    "livroPorGeneroNormalizado"
   ]
  },
  {
   "cell_type": "code",
   "execution_count": 15,
   "metadata": {
    "colab": {},
    "colab_type": "code",
    "id": "OItL8RlBWXco"
   },
   "outputs": [
    {
     "data": {
      "text/html": [
       "<div>\n",
       "<style scoped>\n",
       "    .dataframe tbody tr th:only-of-type {\n",
       "        vertical-align: middle;\n",
       "    }\n",
       "\n",
       "    .dataframe tbody tr th {\n",
       "        vertical-align: top;\n",
       "    }\n",
       "\n",
       "    .dataframe thead th {\n",
       "        text-align: right;\n",
       "    }\n",
       "</style>\n",
       "<table border=\"1\" class=\"dataframe\">\n",
       "  <thead>\n",
       "    <tr style=\"text-align: right;\">\n",
       "      <th></th>\n",
       "      <th>Found_Emp</th>\n",
       "      <th>Foundation</th>\n",
       "      <th>Lookin_for_Alaska</th>\n",
       "      <th>Paper_Town</th>\n",
       "      <th>Retorno_Rei</th>\n",
       "      <th>Sec_Found</th>\n",
       "      <th>Sociedade_do_anel</th>\n",
       "      <th>duas_torres</th>\n",
       "      <th>querido_joao</th>\n",
       "      <th>tartarugas_abaixo</th>\n",
       "    </tr>\n",
       "    <tr>\n",
       "      <th>Palavra</th>\n",
       "      <th></th>\n",
       "      <th></th>\n",
       "      <th></th>\n",
       "      <th></th>\n",
       "      <th></th>\n",
       "      <th></th>\n",
       "      <th></th>\n",
       "      <th></th>\n",
       "      <th></th>\n",
       "      <th></th>\n",
       "    </tr>\n",
       "  </thead>\n",
       "  <tbody>\n",
       "    <tr>\n",
       "      <th>aback</th>\n",
       "      <td>0.0</td>\n",
       "      <td>1.0</td>\n",
       "      <td>0.0</td>\n",
       "      <td>0.0</td>\n",
       "      <td>1.0</td>\n",
       "      <td>1.0</td>\n",
       "      <td>0.0</td>\n",
       "      <td>0.0</td>\n",
       "      <td>0.0</td>\n",
       "      <td>0.0</td>\n",
       "    </tr>\n",
       "    <tr>\n",
       "      <th>abandon</th>\n",
       "      <td>0.0</td>\n",
       "      <td>2.0</td>\n",
       "      <td>2.0</td>\n",
       "      <td>2.0</td>\n",
       "      <td>1.0</td>\n",
       "      <td>2.0</td>\n",
       "      <td>3.0</td>\n",
       "      <td>3.0</td>\n",
       "      <td>0.0</td>\n",
       "      <td>1.0</td>\n",
       "    </tr>\n",
       "    <tr>\n",
       "      <th>abandoned</th>\n",
       "      <td>0.0</td>\n",
       "      <td>2.0</td>\n",
       "      <td>2.0</td>\n",
       "      <td>21.0</td>\n",
       "      <td>1.0</td>\n",
       "      <td>2.0</td>\n",
       "      <td>2.0</td>\n",
       "      <td>0.0</td>\n",
       "      <td>1.0</td>\n",
       "      <td>0.0</td>\n",
       "    </tr>\n",
       "    <tr>\n",
       "      <th>abandoning</th>\n",
       "      <td>0.0</td>\n",
       "      <td>0.0</td>\n",
       "      <td>0.0</td>\n",
       "      <td>1.0</td>\n",
       "      <td>0.0</td>\n",
       "      <td>0.0</td>\n",
       "      <td>0.0</td>\n",
       "      <td>0.0</td>\n",
       "      <td>1.0</td>\n",
       "      <td>2.0</td>\n",
       "    </tr>\n",
       "    <tr>\n",
       "      <th>abandonment</th>\n",
       "      <td>0.0</td>\n",
       "      <td>1.0</td>\n",
       "      <td>0.0</td>\n",
       "      <td>0.0</td>\n",
       "      <td>0.0</td>\n",
       "      <td>1.0</td>\n",
       "      <td>0.0</td>\n",
       "      <td>0.0</td>\n",
       "      <td>0.0</td>\n",
       "      <td>0.0</td>\n",
       "    </tr>\n",
       "    <tr>\n",
       "      <th>...</th>\n",
       "      <td>...</td>\n",
       "      <td>...</td>\n",
       "      <td>...</td>\n",
       "      <td>...</td>\n",
       "      <td>...</td>\n",
       "      <td>...</td>\n",
       "      <td>...</td>\n",
       "      <td>...</td>\n",
       "      <td>...</td>\n",
       "      <td>...</td>\n",
       "    </tr>\n",
       "    <tr>\n",
       "      <th>zoologist</th>\n",
       "      <td>0.0</td>\n",
       "      <td>0.0</td>\n",
       "      <td>0.0</td>\n",
       "      <td>0.0</td>\n",
       "      <td>0.0</td>\n",
       "      <td>0.0</td>\n",
       "      <td>0.0</td>\n",
       "      <td>0.0</td>\n",
       "      <td>0.0</td>\n",
       "      <td>10.0</td>\n",
       "    </tr>\n",
       "    <tr>\n",
       "      <th>zoom</th>\n",
       "      <td>0.0</td>\n",
       "      <td>1.0</td>\n",
       "      <td>0.0</td>\n",
       "      <td>0.0</td>\n",
       "      <td>0.0</td>\n",
       "      <td>1.0</td>\n",
       "      <td>0.0</td>\n",
       "      <td>0.0</td>\n",
       "      <td>0.0</td>\n",
       "      <td>1.0</td>\n",
       "    </tr>\n",
       "    <tr>\n",
       "      <th>zoomed</th>\n",
       "      <td>0.0</td>\n",
       "      <td>0.0</td>\n",
       "      <td>0.0</td>\n",
       "      <td>1.0</td>\n",
       "      <td>0.0</td>\n",
       "      <td>0.0</td>\n",
       "      <td>0.0</td>\n",
       "      <td>0.0</td>\n",
       "      <td>0.0</td>\n",
       "      <td>1.0</td>\n",
       "    </tr>\n",
       "    <tr>\n",
       "      <th>zoranel</th>\n",
       "      <td>0.0</td>\n",
       "      <td>1.0</td>\n",
       "      <td>0.0</td>\n",
       "      <td>0.0</td>\n",
       "      <td>0.0</td>\n",
       "      <td>1.0</td>\n",
       "      <td>0.0</td>\n",
       "      <td>0.0</td>\n",
       "      <td>0.0</td>\n",
       "      <td>0.0</td>\n",
       "    </tr>\n",
       "    <tr>\n",
       "      <th>zorroshe</th>\n",
       "      <td>0.0</td>\n",
       "      <td>0.0</td>\n",
       "      <td>0.0</td>\n",
       "      <td>1.0</td>\n",
       "      <td>0.0</td>\n",
       "      <td>0.0</td>\n",
       "      <td>0.0</td>\n",
       "      <td>0.0</td>\n",
       "      <td>0.0</td>\n",
       "      <td>0.0</td>\n",
       "    </tr>\n",
       "  </tbody>\n",
       "</table>\n",
       "<p>27810 rows × 10 columns</p>\n",
       "</div>"
      ],
      "text/plain": [
       "             Found_Emp  Foundation  Lookin_for_Alaska  Paper_Town  \\\n",
       "Palavra                                                             \n",
       "aback              0.0         1.0                0.0         0.0   \n",
       "abandon            0.0         2.0                2.0         2.0   \n",
       "abandoned          0.0         2.0                2.0        21.0   \n",
       "abandoning         0.0         0.0                0.0         1.0   \n",
       "abandonment        0.0         1.0                0.0         0.0   \n",
       "...                ...         ...                ...         ...   \n",
       "zoologist          0.0         0.0                0.0         0.0   \n",
       "zoom               0.0         1.0                0.0         0.0   \n",
       "zoomed             0.0         0.0                0.0         1.0   \n",
       "zoranel            0.0         1.0                0.0         0.0   \n",
       "zorroshe           0.0         0.0                0.0         1.0   \n",
       "\n",
       "             Retorno_Rei  Sec_Found  Sociedade_do_anel  duas_torres  \\\n",
       "Palavra                                                               \n",
       "aback                1.0        1.0                0.0          0.0   \n",
       "abandon              1.0        2.0                3.0          3.0   \n",
       "abandoned            1.0        2.0                2.0          0.0   \n",
       "abandoning           0.0        0.0                0.0          0.0   \n",
       "abandonment          0.0        1.0                0.0          0.0   \n",
       "...                  ...        ...                ...          ...   \n",
       "zoologist            0.0        0.0                0.0          0.0   \n",
       "zoom                 0.0        1.0                0.0          0.0   \n",
       "zoomed               0.0        0.0                0.0          0.0   \n",
       "zoranel              0.0        1.0                0.0          0.0   \n",
       "zorroshe             0.0        0.0                0.0          0.0   \n",
       "\n",
       "             querido_joao  tartarugas_abaixo  \n",
       "Palavra                                       \n",
       "aback                 0.0                0.0  \n",
       "abandon               0.0                1.0  \n",
       "abandoned             1.0                0.0  \n",
       "abandoning            1.0                2.0  \n",
       "abandonment           0.0                0.0  \n",
       "...                   ...                ...  \n",
       "zoologist             0.0               10.0  \n",
       "zoom                  0.0                1.0  \n",
       "zoomed                0.0                1.0  \n",
       "zoranel               0.0                0.0  \n",
       "zorroshe              0.0                0.0  \n",
       "\n",
       "[27810 rows x 10 columns]"
      ]
     },
     "execution_count": 15,
     "metadata": {},
     "output_type": "execute_result"
    }
   ],
   "source": [
    "palavraPorLivro"
   ]
  },
  {
   "cell_type": "code",
   "execution_count": 16,
   "metadata": {
    "colab": {},
    "colab_type": "code",
    "id": "XfRCOOHSW26C"
   },
   "outputs": [
    {
     "data": {
      "text/html": [
       "<div>\n",
       "<style scoped>\n",
       "    .dataframe tbody tr th:only-of-type {\n",
       "        vertical-align: middle;\n",
       "    }\n",
       "\n",
       "    .dataframe tbody tr th {\n",
       "        vertical-align: top;\n",
       "    }\n",
       "\n",
       "    .dataframe thead th {\n",
       "        text-align: right;\n",
       "    }\n",
       "</style>\n",
       "<table border=\"1\" class=\"dataframe\">\n",
       "  <thead>\n",
       "    <tr style=\"text-align: right;\">\n",
       "      <th></th>\n",
       "      <th>0</th>\n",
       "      <th>1</th>\n",
       "      <th>2</th>\n",
       "    </tr>\n",
       "    <tr>\n",
       "      <th>palavras</th>\n",
       "      <th></th>\n",
       "      <th></th>\n",
       "      <th></th>\n",
       "    </tr>\n",
       "  </thead>\n",
       "  <tbody>\n",
       "    <tr>\n",
       "      <th>aback</th>\n",
       "      <td>0.006153</td>\n",
       "      <td>0.021874</td>\n",
       "      <td>0.000000</td>\n",
       "    </tr>\n",
       "    <tr>\n",
       "      <th>abandon</th>\n",
       "      <td>0.055397</td>\n",
       "      <td>0.042298</td>\n",
       "      <td>0.041814</td>\n",
       "    </tr>\n",
       "    <tr>\n",
       "      <th>abandoned</th>\n",
       "      <td>0.016418</td>\n",
       "      <td>0.036940</td>\n",
       "      <td>0.224043</td>\n",
       "    </tr>\n",
       "    <tr>\n",
       "      <th>abandoning</th>\n",
       "      <td>0.000000</td>\n",
       "      <td>0.000000</td>\n",
       "      <td>0.033532</td>\n",
       "    </tr>\n",
       "    <tr>\n",
       "      <th>abandonment</th>\n",
       "      <td>0.000000</td>\n",
       "      <td>0.021852</td>\n",
       "      <td>0.000000</td>\n",
       "    </tr>\n",
       "    <tr>\n",
       "      <th>...</th>\n",
       "      <td>...</td>\n",
       "      <td>...</td>\n",
       "      <td>...</td>\n",
       "    </tr>\n",
       "    <tr>\n",
       "      <th>zoologist</th>\n",
       "      <td>0.000000</td>\n",
       "      <td>0.000000</td>\n",
       "      <td>0.074834</td>\n",
       "    </tr>\n",
       "    <tr>\n",
       "      <th>zoom</th>\n",
       "      <td>0.000000</td>\n",
       "      <td>0.021689</td>\n",
       "      <td>0.006820</td>\n",
       "    </tr>\n",
       "    <tr>\n",
       "      <th>zoomed</th>\n",
       "      <td>0.000000</td>\n",
       "      <td>0.000000</td>\n",
       "      <td>0.017026</td>\n",
       "    </tr>\n",
       "    <tr>\n",
       "      <th>zoranel</th>\n",
       "      <td>0.000000</td>\n",
       "      <td>0.021852</td>\n",
       "      <td>0.000000</td>\n",
       "    </tr>\n",
       "    <tr>\n",
       "      <th>zorroshe</th>\n",
       "      <td>0.000000</td>\n",
       "      <td>0.000000</td>\n",
       "      <td>0.009542</td>\n",
       "    </tr>\n",
       "  </tbody>\n",
       "</table>\n",
       "<p>27810 rows × 3 columns</p>\n",
       "</div>"
      ],
      "text/plain": [
       "                    0         1         2\n",
       "palavras                                 \n",
       "aback        0.006153  0.021874  0.000000\n",
       "abandon      0.055397  0.042298  0.041814\n",
       "abandoned    0.016418  0.036940  0.224043\n",
       "abandoning   0.000000  0.000000  0.033532\n",
       "abandonment  0.000000  0.021852  0.000000\n",
       "...               ...       ...       ...\n",
       "zoologist    0.000000  0.000000  0.074834\n",
       "zoom         0.000000  0.021689  0.006820\n",
       "zoomed       0.000000  0.000000  0.017026\n",
       "zoranel      0.000000  0.021852  0.000000\n",
       "zorroshe     0.000000  0.000000  0.009542\n",
       "\n",
       "[27810 rows x 3 columns]"
      ]
     },
     "execution_count": 16,
     "metadata": {},
     "output_type": "execute_result"
    }
   ],
   "source": [
    "palavraPorGenero"
   ]
  }
 ],
 "metadata": {
  "colab": {
   "name": "Leitor.ipynb",
   "provenance": []
  },
  "kernelspec": {
   "display_name": "Python 3",
   "language": "python",
   "name": "python3"
  },
  "language_info": {
   "codemirror_mode": {
    "name": "ipython",
    "version": 3
   },
   "file_extension": ".py",
   "mimetype": "text/x-python",
   "name": "python",
   "nbconvert_exporter": "python",
   "pygments_lexer": "ipython3",
   "version": "3.7.6"
  }
 },
 "nbformat": 4,
 "nbformat_minor": 1
}
